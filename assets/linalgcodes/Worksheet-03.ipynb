{
 "cells": [
  {
   "cell_type": "markdown",
   "id": "38c1db46-7483-4e0b-b447-2cfd3c5134c8",
   "metadata": {},
   "source": [
    "# MTH202 Worksheet 2"
   ]
  },
  {
   "cell_type": "markdown",
   "id": "3299c997-6136-4b89-bc45-3fc7fc2361d0",
   "metadata": {},
   "source": [
    "## Problem 1\n",
    "\n",
    "Find a REF of the matrix\n",
    "$$\n",
    "A = \n",
    "\\left[\n",
    "\\begin{array}{rrrr}\n",
    "-2 & 3 & 1 & 4 \\\\\n",
    "0 & 1 & -2 & -1 \\\\\n",
    "0 & 0 & 1 & 0 \\\\\n",
    "2 & 1 & 2 & -2 \\\\\n",
    "-2 & 2 & 0 & -3\n",
    "\\end{array}\n",
    "\\right]\n",
    "$$"
   ]
  },
  {
   "cell_type": "code",
   "execution_count": null,
   "id": "fbc20cfb-b82e-4739-9628-aaeac29ad3a7",
   "metadata": {},
   "outputs": [],
   "source": []
  },
  {
   "cell_type": "markdown",
   "id": "6849ca3e-56f0-41d1-9a31-9216be8fc3f9",
   "metadata": {},
   "source": [
    "## Problem 2\n",
    "\n",
    "Find the RREF matrix of\n",
    "$$\n",
    "B = \n",
    "\\left[\n",
    "\\begin{array}{rrrr}\n",
    "11 & 2 & 0 & -3 \\\\\n",
    "8 & -6 & 0 & -5 \\\\\n",
    "2 & 0 & 1 & 0\n",
    "\\end{array}\n",
    "\\right]\n",
    "$$"
   ]
  },
  {
   "cell_type": "code",
   "execution_count": null,
   "id": "16afcb72-463a-4cfb-8b8f-9dfe7bdc6669",
   "metadata": {},
   "outputs": [],
   "source": []
  }
 ],
 "metadata": {
  "kernelspec": {
   "display_name": "Python 3 (ipykernel)",
   "language": "python",
   "name": "python3"
  },
  "language_info": {
   "codemirror_mode": {
    "name": "ipython",
    "version": 3
   },
   "file_extension": ".py",
   "mimetype": "text/x-python",
   "name": "python",
   "nbconvert_exporter": "python",
   "pygments_lexer": "ipython3",
   "version": "3.13.7"
  }
 },
 "nbformat": 4,
 "nbformat_minor": 5
}
