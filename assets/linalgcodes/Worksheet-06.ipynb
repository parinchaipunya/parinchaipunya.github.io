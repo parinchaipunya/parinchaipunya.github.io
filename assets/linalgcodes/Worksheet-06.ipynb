{
 "cells": [
  {
   "cell_type": "markdown",
   "id": "f6ecd4c1-022f-441f-aa90-ae86a5f493eb",
   "metadata": {},
   "source": [
    "# MTH202 Worksheet 6"
   ]
  },
  {
   "cell_type": "code",
   "execution_count": null,
   "id": "3516bf27-ec2d-4fba-a7cc-e2977659cf37",
   "metadata": {},
   "outputs": [],
   "source": [
    "import numpy as np"
   ]
  },
  {
   "cell_type": "code",
   "execution_count": null,
   "id": "60570134-cbb0-426c-9d60-33159010f3f9",
   "metadata": {},
   "outputs": [],
   "source": [
    "def RREF(A, showsteps='No'):\n",
    "\n",
    "    m, n = A.shape\n",
    "    A = A.astype(float)\n",
    "\n",
    "    if showsteps=='Yes':\n",
    "        print(f\"Input matrix \\nA = \\n{A}\\n\\n\")\n",
    "    \n",
    "    I = 0\n",
    "    for j in range(n):\n",
    "        if showsteps=='Yes':\n",
    "            print(f\"-----CONSIDER COL {j}-----\\n\")\n",
    "        for i in range(m):\n",
    "            if i >= I and A[i,j] != 0:\n",
    "                if showsteps=='Yes':\n",
    "                    print(f\"CONSIDER ROW {I}\\nSWAP rows {i} and {I}:\")\n",
    "                A[[I,i]] = A[[i,I]]\n",
    "                if showsteps=='Yes':\n",
    "                    print(f\"A = \\n{A}\")\n",
    "                A[I,:] /= A[I,j]\n",
    "                A[I+1:,:] -= A[I+1:,[j]] * A[I,:]\n",
    "                A[:I,:] -= A[:I,[j]] * A[I,:]   # This line is added from the code in 5.1.\n",
    "                if showsteps=='Yes':\n",
    "                    print(f\"PIVOT at ({I},{j}): \\nA = \\n{A}\\n\\nROW {I} DONE.\")\n",
    "                I += 1\n",
    "                break\n",
    "        if showsteps=='Yes':\n",
    "            print(f\"COL {j} DONE.\\n\")\n",
    "    \n",
    "    if showsteps=='Yes':\n",
    "        print(\"-----ALL COLs DONE-----\\n\")\n",
    "        print(f\"RREF(A) = \\n{A}\")\n",
    "    \n",
    "    return A"
   ]
  },
  {
   "cell_type": "markdown",
   "id": "90c643ea-a51a-4957-99dc-4ceeb697c4ac",
   "metadata": {},
   "source": [
    "## Problem 1\n",
    "\n",
    "The above block defines a function `RREF`, which is used to find the RREF of a given matrix.\n",
    "\n",
    "**Instruction** <br>\n",
    "Consider a matrix equation $Ax = b$.\n",
    "Write a function `solnum` that inputs the matrix `A` and vector `b`, then print the number of solutions of $Ax = b$.\n",
    "\n",
    "**Expected behavior**\n",
    "* When there is a unique solution.\n",
    "```\n",
    "in:  solnum(A,b)\n",
    "out: Ax = b has a unique solution.\n",
    "```\n",
    "* When there are multiple solutions.\n",
    "```\n",
    "in:  solnum(A,b)\n",
    "out: Ax = b has multiple solutions.\n",
    "```\n",
    "* When there is no solution.\n",
    "```\n",
    "in:  solnum(A,b)\n",
    "out: Ax = b has no solution.\n",
    "```"
   ]
  },
  {
   "cell_type": "code",
   "execution_count": null,
   "id": "6f4ae26d-71af-40de-994a-6600536d9eb7",
   "metadata": {},
   "outputs": [],
   "source": [
    "# Write your function here.\n",
    "\n",
    "def solnum(A,b):\n",
    "    \"\"\"\n",
    "    The inputs A and b should have matching dimensions.\n",
    "    The following format should hold.\n",
    "    A.shape = (m,n) and b.shape = (m,1).\n",
    "    \"\"\"\n",
    "    "
   ]
  },
  {
   "cell_type": "markdown",
   "id": "ea8e7c3a-e584-45f6-9780-f952c37cdd9e",
   "metadata": {},
   "source": [
    "### Tests"
   ]
  },
  {
   "cell_type": "code",
   "execution_count": null,
   "id": "753afc3e-9bdb-4cce-ad03-8e77463ddce6",
   "metadata": {},
   "outputs": [],
   "source": [
    "A1 = np.array([[1,1,1],\n",
    "               [0,0,1],\n",
    "               [0,1,0]])\n",
    "A2 = np.array([[1,1,1],\n",
    "               [0,0,0],\n",
    "               [1,1,1]])\n",
    "A3 = np.array([[1,1,1],\n",
    "               [0,0,0],\n",
    "               [1,0,0]])\n",
    "b = np.array([[3,0,1]]).T"
   ]
  },
  {
   "cell_type": "code",
   "execution_count": null,
   "id": "c2638fa4-0e49-411d-866d-0149bfb63a84",
   "metadata": {},
   "outputs": [],
   "source": [
    "solnum(A1,b) # unique solution"
   ]
  },
  {
   "cell_type": "code",
   "execution_count": null,
   "id": "e269ea06-ba79-425d-81a4-3ef1c7c32101",
   "metadata": {},
   "outputs": [],
   "source": [
    "solnum(A2,b) # no solution"
   ]
  },
  {
   "cell_type": "code",
   "execution_count": null,
   "id": "c2343f78-c7f6-4b3b-9346-e35be6f3617d",
   "metadata": {},
   "outputs": [],
   "source": [
    "solnum(A3,b) # multiple solution"
   ]
  }
 ],
 "metadata": {
  "kernelspec": {
   "display_name": "Python 3 (ipykernel)",
   "language": "python",
   "name": "python3"
  },
  "language_info": {
   "codemirror_mode": {
    "name": "ipython",
    "version": 3
   },
   "file_extension": ".py",
   "mimetype": "text/x-python",
   "name": "python",
   "nbconvert_exporter": "python",
   "pygments_lexer": "ipython3",
   "version": "3.13.7"
  },
  "widgets": {
   "application/vnd.jupyter.widget-state+json": {
    "state": {},
    "version_major": 2,
    "version_minor": 0
   }
  }
 },
 "nbformat": 4,
 "nbformat_minor": 5
}
