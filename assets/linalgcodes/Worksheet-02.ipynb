{
 "cells": [
  {
   "cell_type": "markdown",
   "id": "fea99c05-99c1-4f7a-bdba-bfe8b001a5c5",
   "metadata": {},
   "source": [
    "# MTH202 Worksheet 2"
   ]
  },
  {
   "cell_type": "code",
   "execution_count": null,
   "id": "b58bcc11-8ef5-4d7a-a1a5-d08cf42d3222",
   "metadata": {},
   "outputs": [],
   "source": [
    "import numpy as np"
   ]
  },
  {
   "cell_type": "markdown",
   "id": "47073b09-8e74-4e5a-91a9-4e0f97fa037b",
   "metadata": {},
   "source": [
    "## Problem 1\n",
    "\n",
    "Consider the following matrices $A$ and $B$ defined as in the following blocks."
   ]
  },
  {
   "cell_type": "code",
   "execution_count": null,
   "id": "382ca594-978f-4b40-8e8c-55e71127a0f2",
   "metadata": {},
   "outputs": [],
   "source": [
    "A = np.array([[1, 1, 0, 4, 7],\n",
    "              [0, 0, -1, 2, 3],\n",
    "              [1, 1, 0, 0, -5],\n",
    "              [1, 3, 5, 4, 2]])\n",
    "\n",
    "B = np.array([[3, 2, 2, 1],\n",
    "              [-1, 5, 0, 0],\n",
    "              [0, 1, -3, 3],\n",
    "              [0, 4, 3, 0],\n",
    "              [1, 2, 0, 1]])"
   ]
  },
  {
   "cell_type": "markdown",
   "id": "0133f705-e3bb-4fe5-adf3-1cc247fb57e5",
   "metadata": {},
   "source": [
    "#### Problem 1.1\n",
    "Find the dimension of $A$ and $B$."
   ]
  },
  {
   "cell_type": "code",
   "execution_count": null,
   "id": "b6a6adab-6e40-4894-b31d-334b35518c8c",
   "metadata": {},
   "outputs": [],
   "source": []
  },
  {
   "cell_type": "markdown",
   "id": "1cbab4b2-a7fd-4333-b58c-330678a6cda6",
   "metadata": {},
   "source": [
    "#### Problem 1.2\n",
    "Find the products $AB$ and $A^{\\top}B^{\\top}$."
   ]
  },
  {
   "cell_type": "code",
   "execution_count": null,
   "id": "351dc911-83d2-4fc0-805e-069c5c8ee38a",
   "metadata": {},
   "outputs": [],
   "source": []
  },
  {
   "cell_type": "markdown",
   "id": "d9077af9-9f07-4c16-9a4a-3dfc6b28c029",
   "metadata": {},
   "source": [
    "#### Problem 1.3\n",
    "Find the 3rd row of $AB$."
   ]
  },
  {
   "cell_type": "code",
   "execution_count": null,
   "id": "fcc10717-6cbc-4876-b66f-21ee31b34dfc",
   "metadata": {},
   "outputs": [],
   "source": []
  },
  {
   "cell_type": "markdown",
   "id": "de11964b-aaab-4376-bbb3-e17b87328e63",
   "metadata": {},
   "source": [
    "#### Problem 1.4\n",
    "Find the last row of $A^{\\top}B^{\\top}$."
   ]
  },
  {
   "cell_type": "code",
   "execution_count": null,
   "id": "89b5e630-eed1-4371-b1e7-39a59a45ac93",
   "metadata": {},
   "outputs": [],
   "source": []
  },
  {
   "cell_type": "markdown",
   "id": "44235b16-b251-4bb4-b95c-bd7e007d14a0",
   "metadata": {},
   "source": [
    "## Problem 2\n",
    "\n",
    "Consider the following matrix $C$."
   ]
  },
  {
   "cell_type": "code",
   "execution_count": null,
   "id": "cf409499-098d-4e3e-80dc-a0cacf455697",
   "metadata": {},
   "outputs": [],
   "source": [
    "C = np.zeros((11, 11))\n",
    "C"
   ]
  },
  {
   "cell_type": "markdown",
   "id": "6dce486c-78da-4312-bd53-75e6188e7c01",
   "metadata": {},
   "source": [
    "#### Problem 2.1\n",
    "- Change the first row of $C$ to your student id.\n",
    "- Change the first column of $C$ to the student id of the one sitting next to you."
   ]
  },
  {
   "cell_type": "code",
   "execution_count": null,
   "id": "749b4878-b754-4ef2-8060-0f08a18c12a2",
   "metadata": {},
   "outputs": [],
   "source": []
  }
 ],
 "metadata": {
  "kernelspec": {
   "display_name": "Python 3 (ipykernel)",
   "language": "python",
   "name": "python3"
  },
  "language_info": {
   "codemirror_mode": {
    "name": "ipython",
    "version": 3
   },
   "file_extension": ".py",
   "mimetype": "text/x-python",
   "name": "python",
   "nbconvert_exporter": "python",
   "pygments_lexer": "ipython3",
   "version": "3.13.7"
  }
 },
 "nbformat": 4,
 "nbformat_minor": 5
}
