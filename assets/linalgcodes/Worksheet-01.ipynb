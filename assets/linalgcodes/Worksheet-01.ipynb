{
 "cells": [
  {
   "cell_type": "markdown",
   "id": "03a8c4f3-32aa-4bcf-aacb-df2c58e16c52",
   "metadata": {},
   "source": [
    "# MTH202 Worksheet 1"
   ]
  },
  {
   "cell_type": "markdown",
   "id": "fa413a80-76d1-4324-9b4e-4e9e5360aa24",
   "metadata": {},
   "source": [
    "## Problem 1\n",
    "\n",
    "Define three string variables:\n",
    "- `name` to store your first name,\n",
    "- `surname` to store your last name,\n",
    "- `id` to store your student ID."
   ]
  },
  {
   "cell_type": "code",
   "execution_count": null,
   "id": "c3543913-6732-4c2e-95ba-c7b33640f5d8",
   "metadata": {},
   "outputs": [],
   "source": []
  },
  {
   "cell_type": "markdown",
   "id": "2cf1a84f-637b-4b69-9b88-3245bc48028f",
   "metadata": {},
   "source": [
    "## Problem 2\n",
    "\n",
    "Define a list `L` that consists of three items: `name`, `surname`, and `id`."
   ]
  },
  {
   "cell_type": "code",
   "execution_count": null,
   "id": "0355b6ea-ac69-4428-8f7b-e396117377fb",
   "metadata": {},
   "outputs": [],
   "source": []
  },
  {
   "cell_type": "markdown",
   "id": "34dd2280-9f4c-4954-b758-7a85913cb984",
   "metadata": {},
   "source": [
    "## Problem 3\n",
    "\n",
    "Use the f-string and access the strings from the list `L` to display your fisrt name, last name, and student id using the following sample format.\n",
    "\n",
    "```\n",
    "First name: Parin\n",
    "Last name: Chaipunya\n",
    "Student ID: 52213005\n",
    "```"
   ]
  },
  {
   "cell_type": "code",
   "execution_count": null,
   "id": "b1bb5be0-f678-4011-8c69-d250b5d50db9",
   "metadata": {},
   "outputs": [],
   "source": []
  },
  {
   "cell_type": "markdown",
   "id": "adac7f67-0078-4004-b801-5d33092a07e2",
   "metadata": {},
   "source": [
    "## Problem 4\n",
    "\n",
    "- Create a list `Fruits` with items `banana`, `mango`, and `watermelon`.\n",
    "- Create a list `Vegetables` with items `cucumber` and `cabbage`.\n",
    "- Create a list `Meats` with items `chicken`, `pork` and `beef`.\n",
    "- Create a list `Basket` containing all the items above by joining the above lists.\n",
    "- From `Basket`, use list slicing and print everything except the vegetables. (*Hint: You may need to use `+` to join the two slices.*)"
   ]
  },
  {
   "cell_type": "code",
   "execution_count": null,
   "id": "118ecfbf-fe4a-47d8-beab-8401ecd08d78",
   "metadata": {},
   "outputs": [],
   "source": []
  }
 ],
 "metadata": {
  "kernelspec": {
   "display_name": "Python 3 (ipykernel)",
   "language": "python",
   "name": "python3"
  },
  "language_info": {
   "codemirror_mode": {
    "name": "ipython",
    "version": 3
   },
   "file_extension": ".py",
   "mimetype": "text/x-python",
   "name": "python",
   "nbconvert_exporter": "python",
   "pygments_lexer": "ipython3",
   "version": "3.13.7"
  }
 },
 "nbformat": 4,
 "nbformat_minor": 5
}
