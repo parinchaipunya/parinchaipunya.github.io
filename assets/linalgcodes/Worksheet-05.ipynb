{
 "cells": [
  {
   "cell_type": "markdown",
   "id": "569c5422-90de-45a5-862d-5414df102f3a",
   "metadata": {},
   "source": [
    "# MTH202 Worksheet 5"
   ]
  },
  {
   "cell_type": "markdown",
   "id": "0a306b20-f4a9-4499-8487-3714202ea8a9",
   "metadata": {},
   "source": [
    "## Problem 1\n",
    "\n",
    "Write a function that takes five inputs, then eject two outputs which are the maximum and minimum of the inputs.\n",
    "\n",
    "*Hint: use `np.max` and `np.min`, respectively, to find the maximum and minimum entries of an array.*"
   ]
  },
  {
   "cell_type": "code",
   "execution_count": null,
   "id": "264c2042-611a-4aa1-873a-547a587bdb9e",
   "metadata": {},
   "outputs": [],
   "source": []
  },
  {
   "cell_type": "markdown",
   "id": "c616d83b-bb8b-47f7-afd9-dfd4577c46a1",
   "metadata": {},
   "source": [
    "## Problem 2\n",
    "\n",
    "Write a function that takes one input `x` and output a string `\"EVEN\"` if `x` is even, and output a string `\"ODD\"` if `x` is odd.\n",
    "\n",
    "**Hints**<br>\n",
    "1. An even number is a number $x$ whose remainder of $x / 2$ is 0.\n",
    "2. Use `a % b` to compute the remainder of $a/b$."
   ]
  },
  {
   "cell_type": "code",
   "execution_count": null,
   "id": "39c6845d-1382-405d-ba50-6eb81351a1f0",
   "metadata": {},
   "outputs": [],
   "source": []
  },
  {
   "cell_type": "markdown",
   "id": "72ff96f9-87c9-4e03-adfe-f1cd862240ff",
   "metadata": {},
   "source": [
    "## Problem 3\n",
    "\n",
    "Use `lambda` to define the same function as in Problem 1."
   ]
  },
  {
   "cell_type": "code",
   "execution_count": null,
   "id": "66f37124-3f13-43d1-ab38-96c92e40a4d2",
   "metadata": {},
   "outputs": [],
   "source": []
  }
 ],
 "metadata": {
  "kernelspec": {
   "display_name": "Python 3 (ipykernel)",
   "language": "python",
   "name": "python3"
  },
  "language_info": {
   "codemirror_mode": {
    "name": "ipython",
    "version": 3
   },
   "file_extension": ".py",
   "mimetype": "text/x-python",
   "name": "python",
   "nbconvert_exporter": "python",
   "pygments_lexer": "ipython3",
   "version": "3.13.7"
  }
 },
 "nbformat": 4,
 "nbformat_minor": 5
}
