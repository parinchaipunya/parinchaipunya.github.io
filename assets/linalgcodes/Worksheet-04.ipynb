{
 "cells": [
  {
   "cell_type": "markdown",
   "id": "fad5f425-e167-425b-a4cf-b701c3025d17",
   "metadata": {},
   "source": [
    "# MTH202 Worksheet 4"
   ]
  },
  {
   "cell_type": "code",
   "execution_count": null,
   "id": "5bc8acba-2e1c-49ec-b54f-ece61c793436",
   "metadata": {},
   "outputs": [],
   "source": [
    "import numpy as np"
   ]
  },
  {
   "cell_type": "markdown",
   "id": "efd94ee3-e880-4a45-8f93-ea7459ca5ece",
   "metadata": {},
   "source": [
    "## Problem 1\n",
    "\n",
    "You are organizing a French cuisine party.\n",
    "You need to cook one starter, one main dish, and one dessert.\n",
    "You are uncertain of what to make among the following lists:\n",
    "\n",
    "**Starter**\n",
    "- Vegetarian salad\n",
    "- Mushroom soup\n",
    "- Grilled scallop\n",
    "\n",
    "**Main dish**\n",
    "- Beef steak\n",
    "- German sausages\n",
    "- Roasted duck\n",
    "- Grilled sea bass\n",
    "\n",
    "**Dessert**\n",
    "- Strawberry sorbet\n",
    "- Custart tart\n",
    "\n",
    "Use `for` loops to list all possible course combinations."
   ]
  },
  {
   "cell_type": "code",
   "execution_count": null,
   "id": "b2ab0dfe-4aba-49ce-af6e-90d01dcb5aa7",
   "metadata": {},
   "outputs": [],
   "source": []
  },
  {
   "cell_type": "markdown",
   "id": "cb14910c-ae12-4f11-9c18-9a154e9ee592",
   "metadata": {},
   "source": [
    "## Problem 2\n",
    "\n",
    "Use `while` loop to find the smallest positive integer $x$ in which $\\dfrac{x^{2} + x\\sin(x)}{2 + x} \\geq 100$.\n",
    "\n",
    "(Note: Use `np.sin(x)` for $sin(x)$)"
   ]
  },
  {
   "cell_type": "code",
   "execution_count": null,
   "id": "75d530a6-1d3d-4ef1-968b-1d91a6c123f9",
   "metadata": {},
   "outputs": [],
   "source": []
  },
  {
   "cell_type": "markdown",
   "id": "38d832ad-d4d5-4338-b938-4720eb92c352",
   "metadata": {},
   "source": [
    "## Problem 3\n",
    "\n",
    "Suppose that $A = [a_{ij}]$ is an $m \\times n$ matrix and $B = [b_{ij}]$ is an $n \\times r$ matrix.\n",
    "The product $AB = [c_{ij}]$ is an $m \\times r$ matrix whose entry $c_{ij}$ is defined by\n",
    "$$\n",
    "c_{ij} = a_{i1}b_{1j} + a_{i2}b_{2j} + \\dots + a_{in}b_{nj}.\n",
    "$$\n",
    "\n",
    "Write, using `for` loops, computing all entries of $AB$.\n",
    "\n",
    "(Note: Check the correctness with `A @ B`.)"
   ]
  },
  {
   "cell_type": "code",
   "execution_count": null,
   "id": "901613e1-dfd4-4643-88f8-1970284a6929",
   "metadata": {},
   "outputs": [],
   "source": [
    "A = np.array([\n",
    "    [1, 0, 0, -1, 3, 5],\n",
    "    [2, 1, 5, 2, 0, -2],\n",
    "    [3, 5, 0, 4, -3, 1]])\n",
    "\n",
    "B = np.array([\n",
    "    [1, 11],\n",
    "    [2, -2],\n",
    "    [5, 0],\n",
    "    [0, -1],\n",
    "    [1, 0],\n",
    "    [0, 6]])"
   ]
  },
  {
   "cell_type": "code",
   "execution_count": null,
   "id": "3f06cc03-46d8-4568-843d-ca8e3acd24a0",
   "metadata": {},
   "outputs": [],
   "source": []
  }
 ],
 "metadata": {
  "kernelspec": {
   "display_name": "Python 3 (ipykernel)",
   "language": "python",
   "name": "python3"
  },
  "language_info": {
   "codemirror_mode": {
    "name": "ipython",
    "version": 3
   },
   "file_extension": ".py",
   "mimetype": "text/x-python",
   "name": "python",
   "nbconvert_exporter": "python",
   "pygments_lexer": "ipython3",
   "version": "3.13.7"
  }
 },
 "nbformat": 4,
 "nbformat_minor": 5
}
